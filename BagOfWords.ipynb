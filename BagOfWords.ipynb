{
 "cells": [
  {
   "cell_type": "code",
   "execution_count": 1,
   "metadata": {
    "colab": {
     "base_uri": "https://localhost:8080/",
     "height": 71
    },
    "colab_type": "code",
    "id": "Zqxub7gClgOZ",
    "outputId": "fc1655aa-b636-4408-b175-a4fdbc1d089e"
   },
   "outputs": [],
   "source": [
    "import numpy as np # linear algebra\n",
    "import pandas as pd # data processing, CSV file I/O (e.g. pd.read_csv)\n",
    "import seaborn as sns\n",
    "import matplotlib.pyplot as plt\n",
    "%config InlineBackend.figure_format = 'svg'\n",
    "import os\n",
    "import warnings\n",
    "warnings.simplefilter('ignore')"
   ]
  },
  {
   "cell_type": "code",
   "execution_count": 2,
   "metadata": {
    "colab": {
     "base_uri": "https://localhost:8080/",
     "height": 122
    },
    "colab_type": "code",
    "id": "n3oDUoeGmAge",
    "outputId": "8eea5fa1-87d4-4411-8e2c-9061df071b13"
   },
   "outputs": [
    {
     "name": "stdout",
     "output_type": "stream",
     "text": [
      "Go to this URL in a browser: https://accounts.google.com/o/oauth2/auth?client_id=947318989803-6bn6qk8qdgf4n4g3pfee6491hc0brc4i.apps.googleusercontent.com&redirect_uri=urn%3aietf%3awg%3aoauth%3a2.0%3aoob&response_type=code&scope=email%20https%3a%2f%2fwww.googleapis.com%2fauth%2fdocs.test%20https%3a%2f%2fwww.googleapis.com%2fauth%2fdrive%20https%3a%2f%2fwww.googleapis.com%2fauth%2fdrive.photos.readonly%20https%3a%2f%2fwww.googleapis.com%2fauth%2fpeopleapi.readonly\n",
      "\n",
      "Enter your authorization code:\n",
      "··········\n",
      "Mounted at /content/drive\n"
     ]
    }
   ],
   "source": [
    "from google.colab import drive\n",
    "drive.mount('/content/drive', force_remount=True)"
   ]
  },
  {
   "cell_type": "code",
   "execution_count": 2,
   "metadata": {
    "colab": {},
    "colab_type": "code",
    "id": "cA6bh7dZmTU0"
   },
   "outputs": [],
   "source": [
    "# df = pd.read_csv('/content/drive/My Drive/winemag-data_first150k.csv')\n",
    "df = pd.read_csv('winemag-data_first150k.csv')"
   ]
  },
  {
   "cell_type": "code",
   "execution_count": 3,
   "metadata": {
    "colab": {
     "base_uri": "https://localhost:8080/",
     "height": 391
    },
    "colab_type": "code",
    "id": "D7koMYFJmw_c",
    "outputId": "d7be22c2-c7f3-4b21-d1f3-047dc531cc07"
   },
   "outputs": [
    {
     "name": "stdout",
     "output_type": "stream",
     "text": [
      "(150930, 11)\n"
     ]
    },
    {
     "data": {
      "text/html": [
       "<div>\n",
       "<style scoped>\n",
       "    .dataframe tbody tr th:only-of-type {\n",
       "        vertical-align: middle;\n",
       "    }\n",
       "\n",
       "    .dataframe tbody tr th {\n",
       "        vertical-align: top;\n",
       "    }\n",
       "\n",
       "    .dataframe thead th {\n",
       "        text-align: right;\n",
       "    }\n",
       "</style>\n",
       "<table border=\"1\" class=\"dataframe\">\n",
       "  <thead>\n",
       "    <tr style=\"text-align: right;\">\n",
       "      <th></th>\n",
       "      <th>Unnamed: 0</th>\n",
       "      <th>country</th>\n",
       "      <th>description</th>\n",
       "      <th>designation</th>\n",
       "      <th>points</th>\n",
       "      <th>price</th>\n",
       "      <th>province</th>\n",
       "      <th>region_1</th>\n",
       "      <th>region_2</th>\n",
       "      <th>variety</th>\n",
       "      <th>winery</th>\n",
       "    </tr>\n",
       "  </thead>\n",
       "  <tbody>\n",
       "    <tr>\n",
       "      <td>0</td>\n",
       "      <td>0</td>\n",
       "      <td>US</td>\n",
       "      <td>This tremendous 100% varietal wine hails from ...</td>\n",
       "      <td>Martha's Vineyard</td>\n",
       "      <td>96</td>\n",
       "      <td>235.0</td>\n",
       "      <td>California</td>\n",
       "      <td>Napa Valley</td>\n",
       "      <td>Napa</td>\n",
       "      <td>Cabernet Sauvignon</td>\n",
       "      <td>Heitz</td>\n",
       "    </tr>\n",
       "    <tr>\n",
       "      <td>1</td>\n",
       "      <td>1</td>\n",
       "      <td>Spain</td>\n",
       "      <td>Ripe aromas of fig, blackberry and cassis are ...</td>\n",
       "      <td>Carodorum Selección Especial Reserva</td>\n",
       "      <td>96</td>\n",
       "      <td>110.0</td>\n",
       "      <td>Northern Spain</td>\n",
       "      <td>Toro</td>\n",
       "      <td>NaN</td>\n",
       "      <td>Tinta de Toro</td>\n",
       "      <td>Bodega Carmen Rodríguez</td>\n",
       "    </tr>\n",
       "    <tr>\n",
       "      <td>2</td>\n",
       "      <td>2</td>\n",
       "      <td>US</td>\n",
       "      <td>Mac Watson honors the memory of a wine once ma...</td>\n",
       "      <td>Special Selected Late Harvest</td>\n",
       "      <td>96</td>\n",
       "      <td>90.0</td>\n",
       "      <td>California</td>\n",
       "      <td>Knights Valley</td>\n",
       "      <td>Sonoma</td>\n",
       "      <td>Sauvignon Blanc</td>\n",
       "      <td>Macauley</td>\n",
       "    </tr>\n",
       "    <tr>\n",
       "      <td>3</td>\n",
       "      <td>3</td>\n",
       "      <td>US</td>\n",
       "      <td>This spent 20 months in 30% new French oak, an...</td>\n",
       "      <td>Reserve</td>\n",
       "      <td>96</td>\n",
       "      <td>65.0</td>\n",
       "      <td>Oregon</td>\n",
       "      <td>Willamette Valley</td>\n",
       "      <td>Willamette Valley</td>\n",
       "      <td>Pinot Noir</td>\n",
       "      <td>Ponzi</td>\n",
       "    </tr>\n",
       "    <tr>\n",
       "      <td>4</td>\n",
       "      <td>4</td>\n",
       "      <td>France</td>\n",
       "      <td>This is the top wine from La Bégude, named aft...</td>\n",
       "      <td>La Brûlade</td>\n",
       "      <td>95</td>\n",
       "      <td>66.0</td>\n",
       "      <td>Provence</td>\n",
       "      <td>Bandol</td>\n",
       "      <td>NaN</td>\n",
       "      <td>Provence red blend</td>\n",
       "      <td>Domaine de la Bégude</td>\n",
       "    </tr>\n",
       "  </tbody>\n",
       "</table>\n",
       "</div>"
      ],
      "text/plain": [
       "   Unnamed: 0 country                                        description  \\\n",
       "0           0      US  This tremendous 100% varietal wine hails from ...   \n",
       "1           1   Spain  Ripe aromas of fig, blackberry and cassis are ...   \n",
       "2           2      US  Mac Watson honors the memory of a wine once ma...   \n",
       "3           3      US  This spent 20 months in 30% new French oak, an...   \n",
       "4           4  France  This is the top wine from La Bégude, named aft...   \n",
       "\n",
       "                            designation  points  price        province  \\\n",
       "0                     Martha's Vineyard      96  235.0      California   \n",
       "1  Carodorum Selección Especial Reserva      96  110.0  Northern Spain   \n",
       "2         Special Selected Late Harvest      96   90.0      California   \n",
       "3                               Reserve      96   65.0          Oregon   \n",
       "4                            La Brûlade      95   66.0        Provence   \n",
       "\n",
       "            region_1           region_2             variety  \\\n",
       "0        Napa Valley               Napa  Cabernet Sauvignon   \n",
       "1               Toro                NaN       Tinta de Toro   \n",
       "2     Knights Valley             Sonoma     Sauvignon Blanc   \n",
       "3  Willamette Valley  Willamette Valley          Pinot Noir   \n",
       "4             Bandol                NaN  Provence red blend   \n",
       "\n",
       "                    winery  \n",
       "0                    Heitz  \n",
       "1  Bodega Carmen Rodríguez  \n",
       "2                 Macauley  \n",
       "3                    Ponzi  \n",
       "4     Domaine de la Bégude  "
      ]
     },
     "execution_count": 3,
     "metadata": {},
     "output_type": "execute_result"
    }
   ],
   "source": [
    "pd.set_option('display.max_columns', None)\n",
    "print(df.shape)\n",
    "df.head(5)"
   ]
  },
  {
   "cell_type": "code",
   "execution_count": 4,
   "metadata": {
    "colab": {},
    "colab_type": "code",
    "id": "81T53bphnooy"
   },
   "outputs": [],
   "source": [
    "df_US = df.loc[df['country'] == 'US']"
   ]
  },
  {
   "cell_type": "code",
   "execution_count": 5,
   "metadata": {
    "colab": {
     "base_uri": "https://localhost:8080/",
     "height": 340
    },
    "colab_type": "code",
    "id": "Snx9GrS2ntYy",
    "outputId": "068a98ab-401e-488a-8481-27dd3946e3c7"
   },
   "outputs": [
    {
     "name": "stdout",
     "output_type": "stream",
     "text": [
      "(62397, 11)\n"
     ]
    },
    {
     "data": {
      "text/html": [
       "<div>\n",
       "<style scoped>\n",
       "    .dataframe tbody tr th:only-of-type {\n",
       "        vertical-align: middle;\n",
       "    }\n",
       "\n",
       "    .dataframe tbody tr th {\n",
       "        vertical-align: top;\n",
       "    }\n",
       "\n",
       "    .dataframe thead th {\n",
       "        text-align: right;\n",
       "    }\n",
       "</style>\n",
       "<table border=\"1\" class=\"dataframe\">\n",
       "  <thead>\n",
       "    <tr style=\"text-align: right;\">\n",
       "      <th></th>\n",
       "      <th>Unnamed: 0</th>\n",
       "      <th>country</th>\n",
       "      <th>description</th>\n",
       "      <th>designation</th>\n",
       "      <th>points</th>\n",
       "      <th>price</th>\n",
       "      <th>province</th>\n",
       "      <th>region_1</th>\n",
       "      <th>region_2</th>\n",
       "      <th>variety</th>\n",
       "      <th>winery</th>\n",
       "    </tr>\n",
       "  </thead>\n",
       "  <tbody>\n",
       "    <tr>\n",
       "      <td>0</td>\n",
       "      <td>0</td>\n",
       "      <td>US</td>\n",
       "      <td>This tremendous 100% varietal wine hails from ...</td>\n",
       "      <td>Martha's Vineyard</td>\n",
       "      <td>96</td>\n",
       "      <td>235.0</td>\n",
       "      <td>California</td>\n",
       "      <td>Napa Valley</td>\n",
       "      <td>Napa</td>\n",
       "      <td>Cabernet Sauvignon</td>\n",
       "      <td>Heitz</td>\n",
       "    </tr>\n",
       "    <tr>\n",
       "      <td>2</td>\n",
       "      <td>2</td>\n",
       "      <td>US</td>\n",
       "      <td>Mac Watson honors the memory of a wine once ma...</td>\n",
       "      <td>Special Selected Late Harvest</td>\n",
       "      <td>96</td>\n",
       "      <td>90.0</td>\n",
       "      <td>California</td>\n",
       "      <td>Knights Valley</td>\n",
       "      <td>Sonoma</td>\n",
       "      <td>Sauvignon Blanc</td>\n",
       "      <td>Macauley</td>\n",
       "    </tr>\n",
       "    <tr>\n",
       "      <td>3</td>\n",
       "      <td>3</td>\n",
       "      <td>US</td>\n",
       "      <td>This spent 20 months in 30% new French oak, an...</td>\n",
       "      <td>Reserve</td>\n",
       "      <td>96</td>\n",
       "      <td>65.0</td>\n",
       "      <td>Oregon</td>\n",
       "      <td>Willamette Valley</td>\n",
       "      <td>Willamette Valley</td>\n",
       "      <td>Pinot Noir</td>\n",
       "      <td>Ponzi</td>\n",
       "    </tr>\n",
       "    <tr>\n",
       "      <td>8</td>\n",
       "      <td>8</td>\n",
       "      <td>US</td>\n",
       "      <td>This re-named vineyard was formerly bottled as...</td>\n",
       "      <td>Silice</td>\n",
       "      <td>95</td>\n",
       "      <td>65.0</td>\n",
       "      <td>Oregon</td>\n",
       "      <td>Chehalem Mountains</td>\n",
       "      <td>Willamette Valley</td>\n",
       "      <td>Pinot Noir</td>\n",
       "      <td>Bergström</td>\n",
       "    </tr>\n",
       "    <tr>\n",
       "      <td>9</td>\n",
       "      <td>9</td>\n",
       "      <td>US</td>\n",
       "      <td>The producer sources from two blocks of the vi...</td>\n",
       "      <td>Gap's Crown Vineyard</td>\n",
       "      <td>95</td>\n",
       "      <td>60.0</td>\n",
       "      <td>California</td>\n",
       "      <td>Sonoma Coast</td>\n",
       "      <td>Sonoma</td>\n",
       "      <td>Pinot Noir</td>\n",
       "      <td>Blue Farm</td>\n",
       "    </tr>\n",
       "  </tbody>\n",
       "</table>\n",
       "</div>"
      ],
      "text/plain": [
       "   Unnamed: 0 country                                        description  \\\n",
       "0           0      US  This tremendous 100% varietal wine hails from ...   \n",
       "2           2      US  Mac Watson honors the memory of a wine once ma...   \n",
       "3           3      US  This spent 20 months in 30% new French oak, an...   \n",
       "8           8      US  This re-named vineyard was formerly bottled as...   \n",
       "9           9      US  The producer sources from two blocks of the vi...   \n",
       "\n",
       "                     designation  points  price    province  \\\n",
       "0              Martha's Vineyard      96  235.0  California   \n",
       "2  Special Selected Late Harvest      96   90.0  California   \n",
       "3                        Reserve      96   65.0      Oregon   \n",
       "8                         Silice      95   65.0      Oregon   \n",
       "9           Gap's Crown Vineyard      95   60.0  California   \n",
       "\n",
       "             region_1           region_2             variety     winery  \n",
       "0         Napa Valley               Napa  Cabernet Sauvignon      Heitz  \n",
       "2      Knights Valley             Sonoma     Sauvignon Blanc   Macauley  \n",
       "3   Willamette Valley  Willamette Valley          Pinot Noir      Ponzi  \n",
       "8  Chehalem Mountains  Willamette Valley          Pinot Noir  Bergström  \n",
       "9        Sonoma Coast             Sonoma          Pinot Noir  Blue Farm  "
      ]
     },
     "execution_count": 5,
     "metadata": {},
     "output_type": "execute_result"
    }
   ],
   "source": [
    "print(df_US.shape)\n",
    "df_US.head()"
   ]
  },
  {
   "cell_type": "code",
   "execution_count": 6,
   "metadata": {
    "colab": {
     "base_uri": "https://localhost:8080/",
     "height": 306
    },
    "colab_type": "code",
    "id": "P6o6vbyIoJ9s",
    "outputId": "71ad833d-2967-41f4-d38f-3837ac26f6c0"
   },
   "outputs": [
    {
     "name": "stdout",
     "output_type": "stream",
     "text": [
      "(39241, 9)\n"
     ]
    },
    {
     "data": {
      "text/html": [
       "<div>\n",
       "<style scoped>\n",
       "    .dataframe tbody tr th:only-of-type {\n",
       "        vertical-align: middle;\n",
       "    }\n",
       "\n",
       "    .dataframe tbody tr th {\n",
       "        vertical-align: top;\n",
       "    }\n",
       "\n",
       "    .dataframe thead th {\n",
       "        text-align: right;\n",
       "    }\n",
       "</style>\n",
       "<table border=\"1\" class=\"dataframe\">\n",
       "  <thead>\n",
       "    <tr style=\"text-align: right;\">\n",
       "      <th></th>\n",
       "      <th>description</th>\n",
       "      <th>designation</th>\n",
       "      <th>points</th>\n",
       "      <th>price</th>\n",
       "      <th>province</th>\n",
       "      <th>region_1</th>\n",
       "      <th>region_2</th>\n",
       "      <th>variety</th>\n",
       "      <th>winery</th>\n",
       "    </tr>\n",
       "  </thead>\n",
       "  <tbody>\n",
       "    <tr>\n",
       "      <td>0</td>\n",
       "      <td>This tremendous 100% varietal wine hails from ...</td>\n",
       "      <td>Martha's Vineyard</td>\n",
       "      <td>96</td>\n",
       "      <td>235.0</td>\n",
       "      <td>California</td>\n",
       "      <td>Napa Valley</td>\n",
       "      <td>Napa</td>\n",
       "      <td>Cabernet Sauvignon</td>\n",
       "      <td>Heitz</td>\n",
       "    </tr>\n",
       "    <tr>\n",
       "      <td>1</td>\n",
       "      <td>Mac Watson honors the memory of a wine once ma...</td>\n",
       "      <td>Special Selected Late Harvest</td>\n",
       "      <td>96</td>\n",
       "      <td>90.0</td>\n",
       "      <td>California</td>\n",
       "      <td>Knights Valley</td>\n",
       "      <td>Sonoma</td>\n",
       "      <td>Sauvignon Blanc</td>\n",
       "      <td>Macauley</td>\n",
       "    </tr>\n",
       "    <tr>\n",
       "      <td>2</td>\n",
       "      <td>This spent 20 months in 30% new French oak, an...</td>\n",
       "      <td>Reserve</td>\n",
       "      <td>96</td>\n",
       "      <td>65.0</td>\n",
       "      <td>Oregon</td>\n",
       "      <td>Willamette Valley</td>\n",
       "      <td>Willamette Valley</td>\n",
       "      <td>Pinot Noir</td>\n",
       "      <td>Ponzi</td>\n",
       "    </tr>\n",
       "    <tr>\n",
       "      <td>3</td>\n",
       "      <td>This re-named vineyard was formerly bottled as...</td>\n",
       "      <td>Silice</td>\n",
       "      <td>95</td>\n",
       "      <td>65.0</td>\n",
       "      <td>Oregon</td>\n",
       "      <td>Chehalem Mountains</td>\n",
       "      <td>Willamette Valley</td>\n",
       "      <td>Pinot Noir</td>\n",
       "      <td>Bergström</td>\n",
       "    </tr>\n",
       "    <tr>\n",
       "      <td>4</td>\n",
       "      <td>The producer sources from two blocks of the vi...</td>\n",
       "      <td>Gap's Crown Vineyard</td>\n",
       "      <td>95</td>\n",
       "      <td>60.0</td>\n",
       "      <td>California</td>\n",
       "      <td>Sonoma Coast</td>\n",
       "      <td>Sonoma</td>\n",
       "      <td>Pinot Noir</td>\n",
       "      <td>Blue Farm</td>\n",
       "    </tr>\n",
       "  </tbody>\n",
       "</table>\n",
       "</div>"
      ],
      "text/plain": [
       "                                         description  \\\n",
       "0  This tremendous 100% varietal wine hails from ...   \n",
       "1  Mac Watson honors the memory of a wine once ma...   \n",
       "2  This spent 20 months in 30% new French oak, an...   \n",
       "3  This re-named vineyard was formerly bottled as...   \n",
       "4  The producer sources from two blocks of the vi...   \n",
       "\n",
       "                     designation  points  price    province  \\\n",
       "0              Martha's Vineyard      96  235.0  California   \n",
       "1  Special Selected Late Harvest      96   90.0  California   \n",
       "2                        Reserve      96   65.0      Oregon   \n",
       "3                         Silice      95   65.0      Oregon   \n",
       "4           Gap's Crown Vineyard      95   60.0  California   \n",
       "\n",
       "             region_1           region_2             variety     winery  \n",
       "0         Napa Valley               Napa  Cabernet Sauvignon      Heitz  \n",
       "1      Knights Valley             Sonoma     Sauvignon Blanc   Macauley  \n",
       "2   Willamette Valley  Willamette Valley          Pinot Noir      Ponzi  \n",
       "3  Chehalem Mountains  Willamette Valley          Pinot Noir  Bergström  \n",
       "4        Sonoma Coast             Sonoma          Pinot Noir  Blue Farm  "
      ]
     },
     "execution_count": 6,
     "metadata": {},
     "output_type": "execute_result"
    }
   ],
   "source": [
    "drop_columns = ['Unnamed: 0', 'country']\n",
    "wine_reviews = df_US.drop(columns = drop_columns)\n",
    "wine_reviews = wine_reviews.dropna()\n",
    "wine_reviews = wine_reviews.reset_index(drop = True)\n",
    "print(wine_reviews.shape)\n",
    "wine_reviews.head()"
   ]
  },
  {
   "cell_type": "code",
   "execution_count": 8,
   "metadata": {
    "colab": {
     "base_uri": "https://localhost:8080/",
     "height": 292
    },
    "colab_type": "code",
    "id": "GE16Yt2usqdo",
    "outputId": "5e6ae79b-c708-4a89-f2d2-e390a14cbd9d"
   },
   "outputs": [
    {
     "name": "stdout",
     "output_type": "stream",
     "text": [
      "Collecting category_encoders\n",
      "\u001b[?25l  Downloading https://files.pythonhosted.org/packages/a0/52/c54191ad3782de633ea3d6ee3bb2837bda0cf3bc97644bb6375cf14150a0/category_encoders-2.1.0-py2.py3-none-any.whl (100kB)\n",
      "\r",
      "\u001b[K     |███▎                            | 10kB 15.1MB/s eta 0:00:01\r",
      "\u001b[K     |██████▌                         | 20kB 2.2MB/s eta 0:00:01\r",
      "\u001b[K     |█████████▉                      | 30kB 2.8MB/s eta 0:00:01\r",
      "\u001b[K     |█████████████                   | 40kB 2.1MB/s eta 0:00:01\r",
      "\u001b[K     |████████████████▍               | 51kB 2.3MB/s eta 0:00:01\r",
      "\u001b[K     |███████████████████▋            | 61kB 2.7MB/s eta 0:00:01\r",
      "\u001b[K     |██████████████████████▉         | 71kB 2.9MB/s eta 0:00:01\r",
      "\u001b[K     |██████████████████████████▏     | 81kB 3.2MB/s eta 0:00:01\r",
      "\u001b[K     |█████████████████████████████▍  | 92kB 3.6MB/s eta 0:00:01\r",
      "\u001b[K     |████████████████████████████████| 102kB 2.6MB/s \n",
      "\u001b[?25hRequirement already satisfied: numpy>=1.11.3 in /usr/local/lib/python3.6/dist-packages (from category_encoders) (1.18.2)\n",
      "Requirement already satisfied: scikit-learn>=0.20.0 in /usr/local/lib/python3.6/dist-packages (from category_encoders) (0.22.2.post1)\n",
      "Requirement already satisfied: scipy>=0.19.0 in /usr/local/lib/python3.6/dist-packages (from category_encoders) (1.4.1)\n",
      "Requirement already satisfied: statsmodels>=0.6.1 in /usr/local/lib/python3.6/dist-packages (from category_encoders) (0.10.2)\n",
      "Requirement already satisfied: patsy>=0.4.1 in /usr/local/lib/python3.6/dist-packages (from category_encoders) (0.5.1)\n",
      "Requirement already satisfied: pandas>=0.21.1 in /usr/local/lib/python3.6/dist-packages (from category_encoders) (1.0.3)\n",
      "Requirement already satisfied: joblib>=0.11 in /usr/local/lib/python3.6/dist-packages (from scikit-learn>=0.20.0->category_encoders) (0.14.1)\n",
      "Requirement already satisfied: six in /usr/local/lib/python3.6/dist-packages (from patsy>=0.4.1->category_encoders) (1.12.0)\n",
      "Requirement already satisfied: pytz>=2017.2 in /usr/local/lib/python3.6/dist-packages (from pandas>=0.21.1->category_encoders) (2018.9)\n",
      "Requirement already satisfied: python-dateutil>=2.6.1 in /usr/local/lib/python3.6/dist-packages (from pandas>=0.21.1->category_encoders) (2.8.1)\n",
      "Installing collected packages: category-encoders\n",
      "Successfully installed category-encoders-2.1.0\n"
     ]
    }
   ],
   "source": [
    "pip install category_encoders"
   ]
  },
  {
   "cell_type": "code",
   "execution_count": 7,
   "metadata": {
    "colab": {},
    "colab_type": "code",
    "id": "YzxYCvwysVeU"
   },
   "outputs": [],
   "source": [
    "from sklearn.linear_model import LinearRegression, Ridge, Lasso, ElasticNet, LogisticRegression, LogisticRegressionCV\n",
    "from sklearn.compose import make_column_selector\n",
    "from category_encoders.target_encoder import TargetEncoder\n",
    "from sklearn.compose import TransformedTargetRegressor\n",
    "from sklearn.model_selection import GridSearchCV\n",
    "from sklearn.model_selection import train_test_split\n",
    "from sklearn.preprocessing import StandardScaler\n",
    "from sklearn.feature_selection import SelectPercentile, f_regression\n",
    "\n",
    "from sklearn.compose import make_column_transformer\n",
    "from sklearn.compose import make_column_selector\n",
    "from sklearn.preprocessing import StandardScaler, OneHotEncoder\n",
    "from sklearn.model_selection import cross_val_score, KFold, StratifiedKFold, RepeatedStratifiedKFold, ShuffleSplit,RepeatedKFold\n",
    "from sklearn.pipeline import make_pipeline\n",
    "from sklearn.impute import SimpleImputer\n",
    "from sklearn.svm import SVC\n",
    "from sklearn.svm import SVR\n",
    "from sklearn.decomposition import KernelPCA, PCA\n",
    "from sklearn.preprocessing import PolynomialFeatures\n",
    "\n",
    "from sklearn.feature_extraction.text import CountVectorizer\n"
   ]
  },
  {
   "cell_type": "code",
   "execution_count": 8,
   "metadata": {
    "colab": {},
    "colab_type": "code",
    "id": "2M1sFSn4uKIZ"
   },
   "outputs": [],
   "source": [
    "drop_columns = ['description', 'region_1', 'points']\n",
    "X = wine_reviews.drop(columns = drop_columns, axis=1)\n",
    "y = wine_reviews[['points']]"
   ]
  },
  {
   "cell_type": "markdown",
   "metadata": {
    "colab_type": "text",
    "id": "QpwEZSYtF7WT"
   },
   "source": [
    "# 1.1"
   ]
  },
  {
   "cell_type": "code",
   "execution_count": 15,
   "metadata": {
    "colab": {
     "base_uri": "https://localhost:8080/",
     "height": 34
    },
    "colab_type": "code",
    "id": "xGBr-lgre7t-",
    "outputId": "b5dd2d68-12c2-4258-d599-dac71fd034db"
   },
   "outputs": [
    {
     "name": "stdout",
     "output_type": "stream",
     "text": [
      "0.5307362685993053\n"
     ]
    }
   ],
   "source": [
    "X_train, X_test, y_train, y_test = train_test_split(X,y,random_state=0)\n",
    "\n",
    "categorical_features = [ 'designation','region_2','province', 'variety']\n",
    "continuous_features = ['price']\n",
    "te_features = ['winery']\n",
    "\n",
    "\n",
    "preprocess = make_column_transformer(\n",
    "        (TargetEncoder(handle_missing='value',handle_unknown='value'), te_features),\n",
    "        (OneHotEncoder(handle_unknown='ignore'), categorical_features),\n",
    "        (StandardScaler(), continuous_features))\n",
    "\n",
    "model = make_pipeline(preprocess, LinearRegression())\n",
    "\n",
    "model.fit(X_train, y_train)\n",
    "\n",
    "print(model.score(X_test, y_test))"
   ]
  },
  {
   "cell_type": "code",
   "execution_count": 13,
   "metadata": {
    "colab": {
     "base_uri": "https://localhost:8080/",
     "height": 34
    },
    "colab_type": "code",
    "id": "Icg_8mPgM0bh",
    "outputId": "1bcfc1d9-058a-4bc5-fece-6f8e87b0237a"
   },
   "outputs": [
    {
     "name": "stdout",
     "output_type": "stream",
     "text": [
      "0.5622236556373285\n"
     ]
    }
   ],
   "source": [
    "X_train, X_test, y_train, y_test = train_test_split(X,y,random_state=0)\n",
    "\n",
    "categorical_features = ['designation', 'region_2','province', 'variety','winery']\n",
    "continuous_features = ['price']\n",
    "te_features = ['winery']\n",
    "\n",
    "\n",
    "preprocess = make_column_transformer(\n",
    "        # (TargetEncoder(handle_missing='value',handle_unknown='value'), te_features),\n",
    "        (OneHotEncoder(handle_unknown='ignore'), categorical_features),\n",
    "        (StandardScaler(), continuous_features))\n",
    "\n",
    "model = make_pipeline(preprocess, Ridge())\n",
    "\n",
    "model.fit(X_train, y_train)\n",
    "\n",
    "print(model.score(X_test, y_test))"
   ]
  },
  {
   "cell_type": "markdown",
   "metadata": {
    "colab_type": "text",
    "id": "WhJ_fFSTF83U"
   },
   "source": [
    "\n",
    "# 1.2"
   ]
  },
  {
   "cell_type": "code",
   "execution_count": 9,
   "metadata": {
    "colab": {},
    "colab_type": "code",
    "id": "0DTTFstrUd9F"
   },
   "outputs": [],
   "source": [
    "text_trainval = list(wine_reviews['description'])\n",
    "y_trainval = wine_reviews[['points']]"
   ]
  },
  {
   "cell_type": "code",
   "execution_count": 10,
   "metadata": {
    "colab": {
     "base_uri": "https://localhost:8080/",
     "height": 51
    },
    "colab_type": "code",
    "id": "rsszuViikkDM",
    "outputId": "faa424e7-3dc6-44bc-80e0-cfa3d9cc9659"
   },
   "outputs": [
    {
     "data": {
      "text/plain": [
       "<29430x14561 sparse matrix of type '<class 'numpy.int64'>'\n",
       "\twith 1047313 stored elements in Compressed Sparse Row format>"
      ]
     },
     "execution_count": 10,
     "metadata": {},
     "output_type": "execute_result"
    }
   ],
   "source": [
    "text_trainval = [doc.replace(\"<br />\", \" \")\n",
    "                  for doc in text_trainval]\n",
    "\n",
    "text_train, text_val, y_train, y_val = train_test_split(\n",
    "    text_trainval, y_trainval, stratify=y_trainval, random_state=0)\n",
    "\n",
    "vect = CountVectorizer()\n",
    "X_train = vect.fit_transform(text_train)\n",
    "X_val = vect.transform(text_val)\n",
    "X_train"
   ]
  },
  {
   "cell_type": "code",
   "execution_count": 11,
   "metadata": {
    "colab": {
     "base_uri": "https://localhost:8080/",
     "height": 34
    },
    "colab_type": "code",
    "id": "D0i4yt-rlnAB",
    "outputId": "69c9c650-6b83-46c9-cf64-98585b13d32b"
   },
   "outputs": [
    {
     "name": "stdout",
     "output_type": "stream",
     "text": [
      "['00', '000', '008', '01', '01s', '02', '02s', '03', '03s', '04']\n"
     ]
    }
   ],
   "source": [
    "feature_names = vect.get_feature_names()\n",
    "print(feature_names[:10])"
   ]
  },
  {
   "cell_type": "code",
   "execution_count": 12,
   "metadata": {
    "colab": {
     "base_uri": "https://localhost:8080/",
     "height": 34
    },
    "colab_type": "code",
    "id": "FtZPsksRlqcN",
    "outputId": "2f4b68dd-0fb5-4b47-f08a-a4fbcd6d9048"
   },
   "outputs": [
    {
     "name": "stdout",
     "output_type": "stream",
     "text": [
      "['00', 'burgundian', 'disturbs', 'half', 'meditative', 'prospects', 'spotlight', 'violety']\n"
     ]
    }
   ],
   "source": [
    "print(feature_names[::2000])"
   ]
  },
  {
   "cell_type": "markdown",
   "metadata": {
    "colab_type": "text",
    "id": "k5n78HoXrQAE"
   },
   "source": [
    "# LogisticRegressionCV"
   ]
  },
  {
   "cell_type": "code",
   "execution_count": 0,
   "metadata": {
    "colab": {
     "base_uri": "https://localhost:8080/",
     "height": 34
    },
    "colab_type": "code",
    "id": "WA25Bsqvp3ec",
    "outputId": "e40e9cbd-f914-483f-cc34-36fd76b4628f"
   },
   "outputs": [
    {
     "data": {
      "text/plain": [
       "0.5943328916522271"
      ]
     },
     "execution_count": 62,
     "metadata": {
      "tags": []
     },
     "output_type": "execute_result"
    }
   ],
   "source": [
    "lr = LogisticRegressionCV().fit(X_train, y_train)\n",
    "lr.score(X_val, y_val)"
   ]
  },
  {
   "cell_type": "markdown",
   "metadata": {
    "colab_type": "text",
    "id": "vtvjkmr6rOY_"
   },
   "source": [
    "# Ridge"
   ]
  },
  {
   "cell_type": "code",
   "execution_count": 0,
   "metadata": {
    "colab": {
     "base_uri": "https://localhost:8080/",
     "height": 34
    },
    "colab_type": "code",
    "id": "5_hDR8YLpakg",
    "outputId": "85497a11-8a7b-49ab-84fe-68a8bc537c59"
   },
   "outputs": [
    {
     "data": {
      "text/plain": [
       "0.7788354173240756"
      ]
     },
     "execution_count": 80,
     "metadata": {
      "tags": []
     },
     "output_type": "execute_result"
    }
   ],
   "source": [
    "ridge = Ridge().fit(X_train, y_train)\n",
    "ridge.score(X_val, y_val)"
   ]
  },
  {
   "cell_type": "markdown",
   "metadata": {
    "colab_type": "text",
    "id": "FxC-PtSLzFrs"
   },
   "source": [
    "# 1.3"
   ]
  },
  {
   "cell_type": "markdown",
   "metadata": {
    "colab_type": "text",
    "id": "ghyP4UncGxhb"
   },
   "source": [
    "# Parameter -  ngram_range = (1,2)"
   ]
  },
  {
   "cell_type": "code",
   "execution_count": 0,
   "metadata": {
    "colab": {
     "base_uri": "https://localhost:8080/",
     "height": 51
    },
    "colab_type": "code",
    "id": "N2WVe2W4G1k6",
    "outputId": "0b50d9a1-be59-43eb-c9a8-6f7cc060f1c5"
   },
   "outputs": [
    {
     "data": {
      "text/plain": [
       "<29430x214249 sparse matrix of type '<class 'numpy.int64'>'\n",
       "\twith 2213879 stored elements in Compressed Sparse Row format>"
      ]
     },
     "execution_count": 93,
     "metadata": {
      "tags": []
     },
     "output_type": "execute_result"
    }
   ],
   "source": [
    "text_trainval = [doc.replace(\"<br />\", \" \")\n",
    "                  for doc in text_trainval]\n",
    "\n",
    "text_train, text_val, y_train, y_val = train_test_split(\n",
    "    text_trainval, y_trainval, stratify=y_trainval, random_state=0)\n",
    "\n",
    "vect = CountVectorizer(ngram_range=(1, 2))\n",
    "X_train = vect.fit_transform(text_train)\n",
    "X_val = vect.transform(text_val)\n",
    "X_train"
   ]
  },
  {
   "cell_type": "code",
   "execution_count": 0,
   "metadata": {
    "colab": {
     "base_uri": "https://localhost:8080/",
     "height": 51
    },
    "colab_type": "code",
    "id": "Wr15Zw1RG7yG",
    "outputId": "68f144c5-282c-4149-fef7-bb6c5ef1d40f"
   },
   "outputs": [
    {
     "name": "stdout",
     "output_type": "stream",
     "text": [
      "{'ridge__alpha': 10.0}\n",
      "0.8523216142607601\n"
     ]
    }
   ],
   "source": [
    "rid_pipe = make_pipeline(Ridge())\n",
    "\n",
    "param_grid = {'ridge__alpha': [0.001, 0.01, 0.1, 1., 10., 100.]}\n",
    "\n",
    "grid = GridSearchCV(rid_pipe, param_grid=param_grid,cv=5, n_jobs=-1)\n",
    "grid.fit(X_train, y_train)\n",
    "print(grid.best_params_)\n",
    "print(grid.score(X_val, y_val))"
   ]
  },
  {
   "cell_type": "markdown",
   "metadata": {
    "colab_type": "text",
    "id": "CKoREsAtGp_S"
   },
   "source": [
    "# Parameter -   ngram_range = (1,3)"
   ]
  },
  {
   "cell_type": "code",
   "execution_count": 13,
   "metadata": {
    "colab": {
     "base_uri": "https://localhost:8080/",
     "height": 51
    },
    "colab_type": "code",
    "id": "AgpGAkeZzEQE",
    "outputId": "61c325da-0fa3-4552-dbdd-738ccc8f58d3"
   },
   "outputs": [
    {
     "data": {
      "text/plain": [
       "<29430x709645 sparse matrix of type '<class 'numpy.int64'>'\n",
       "\twith 3354680 stored elements in Compressed Sparse Row format>"
      ]
     },
     "execution_count": 13,
     "metadata": {},
     "output_type": "execute_result"
    }
   ],
   "source": [
    "text_trainval = [doc.replace(\"<br />\", \" \")\n",
    "                  for doc in text_trainval]\n",
    "\n",
    "text_train, text_val, y_train, y_val = train_test_split(\n",
    "    text_trainval, y_trainval, stratify=y_trainval, random_state=0)\n",
    "\n",
    "vect = CountVectorizer(ngram_range=(1, 3))\n",
    "X_train = vect.fit_transform(text_train)\n",
    "X_val = vect.transform(text_val)\n",
    "X_train"
   ]
  },
  {
   "cell_type": "code",
   "execution_count": 14,
   "metadata": {
    "colab": {
     "base_uri": "https://localhost:8080/",
     "height": 51
    },
    "colab_type": "code",
    "id": "bUoToNjODhCr",
    "outputId": "b422e011-c00a-4c77-8d78-4878b5c27a85"
   },
   "outputs": [
    {
     "name": "stdout",
     "output_type": "stream",
     "text": [
      "{'ridge__alpha': 10.0}\n",
      "0.8632828092584381\n"
     ]
    }
   ],
   "source": [
    "rid_pipe = make_pipeline(Ridge())\n",
    "\n",
    "param_grid = {'ridge__alpha': [0.001, 0.01, 0.1, 1., 10., 100.]}\n",
    "\n",
    "grid = GridSearchCV(rid_pipe, param_grid=param_grid,cv=5, n_jobs=-1)\n",
    "grid.fit(X_train, y_train)\n",
    "print(grid.best_params_)\n",
    "print(grid.score(X_val, y_val))"
   ]
  },
  {
   "cell_type": "code",
   "execution_count": 15,
   "metadata": {
    "colab": {
     "base_uri": "https://localhost:8080/",
     "height": 34
    },
    "colab_type": "code",
    "id": "adMZeXuqzN5f",
    "outputId": "9cec0323-9b47-4bff-b261-579dcbd7f1c7"
   },
   "outputs": [
    {
     "data": {
      "text/plain": [
       "0.8632828092584381"
      ]
     },
     "execution_count": 15,
     "metadata": {},
     "output_type": "execute_result"
    }
   ],
   "source": [
    "ridge = Ridge(alpha=10.).fit(X_train, y_train)\n",
    "ridge.score(X_val, y_val)"
   ]
  },
  {
   "cell_type": "markdown",
   "metadata": {
    "colab_type": "text",
    "id": "mCCU9wejIJ8f"
   },
   "source": [
    "ngram_range = (1,3) seems to be good for our data. "
   ]
  },
  {
   "cell_type": "code",
   "execution_count": 21,
   "metadata": {},
   "outputs": [],
   "source": [
    "\n",
    "sns.set_context('notebook')\n",
    "%config InlineBackend.figure_format = 'retina'"
   ]
  },
  {
   "cell_type": "code",
   "execution_count": 22,
   "metadata": {
    "colab": {
     "base_uri": "https://localhost:8080/",
     "height": 843
    },
    "colab_type": "code",
    "id": "3hE_UmkvgxVg",
    "outputId": "7e21afe7-c722-48d4-c075-fddf4696bf13"
   },
   "outputs": [
    {
     "data": {
      "image/png": "[encoded data removed]",
      "text/plain": [
       "<Figure size 720x720 with 1 Axes>"
      ]
     },
     "metadata": {
      "image/png": {
       "height": 608,
       "width": 663
      },
      "needs_background": "light"
     },
     "output_type": "display_data"
    }
   ],
   "source": [
    "%matplotlib inline\n",
    "coef = ridge.coef_.ravel()\n",
    "coef_abs =  [abs(ele) for ele in coef]\n",
    "indices = np.argsort(coef_abs)\n",
    "indices_20imp = indices[-20:]\n",
    "top_coef = coef[indices_20imp]\n",
    "features = np.array(vect.get_feature_names())\n",
    "top_features = features[indices_20imp]\n",
    "\n",
    "colors = ['b' if ele==1.0 else 'r' for ele in np.sign(top_coef)]\n",
    "\n",
    "fig, ax2 = plt.subplots(1,1, figsize=(10, 10))\n",
    "ax2.barh(top_features,top_coef,color=colors)\n",
    "ax2.set_xlabel('Coefficients')\n",
    "ax2.set_ylabel('Features')\n",
    "ax2.set_title('Ridge Estimator')\n",
    "plt.show()"
   ]
  },
  {
   "cell_type": "code",
   "execution_count": 17,
   "metadata": {
    "colab": {},
    "colab_type": "code",
    "id": "Pta-RfT-Umw7"
   },
   "outputs": [],
   "source": [
    "pd.set_option('display.max_colwidth', -1)"
   ]
  },
  {
   "cell_type": "markdown",
   "metadata": {
    "colab_type": "text",
    "id": "iPmFPa2PXBIp"
   },
   "source": [
    "**The overall points range is from 80 to 100**"
   ]
  },
  {
   "cell_type": "code",
   "execution_count": 23,
   "metadata": {
    "colab": {
     "base_uri": "https://localhost:8080/",
     "height": 508
    },
    "colab_type": "code",
    "id": "t_RCSADLSRFT",
    "outputId": "56ccd946-68c2-41f5-8dfd-9dfafc779e6a"
   },
   "outputs": [
    {
     "data": {
      "image/png": "[encoded data removed]",
      "text/plain": [
       "<Figure size 360x360 with 1 Axes>"
      ]
     },
     "metadata": {
      "image/png": {
       "height": 351,
       "width": 352
      },
      "needs_background": "light"
     },
     "output_type": "display_data"
    }
   ],
   "source": [
    "%matplotlib inline\n",
    "import seaborn as sns\n",
    "harsh_desc = wine_reviews[wine_reviews['description'].str.contains(\"harsh\")]\n",
    "harsh_desc = harsh_desc.assign(desc = 'harsh')\n",
    "vegetal_desc = wine_reviews[wine_reviews['description'].str.contains(\"vegetal\")]\n",
    "vegetal_desc = vegetal_desc.assign(desc = 'vegetal')\n",
    "delicious_desc = wine_reviews[wine_reviews['description'].str.contains(\"delicious\")]\n",
    "delicious_desc = delicious_desc.assign(desc = 'delicious')\n",
    "gorgeous_desc = wine_reviews[wine_reviews['description'].str.contains(\"gorgeous\")]\n",
    "gorgeous_desc = gorgeous_desc.assign(desc = 'gorgeous')\n",
    "\n",
    "desc = harsh_desc.append(vegetal_desc)\n",
    "desc = desc.append(delicious_desc)\n",
    "desc = desc.append(gorgeous_desc)\n",
    "desc = desc[['desc','points']]\n",
    "\n",
    "sns.catplot(x = \"desc\", y = \"points\", data = desc)\n",
    "\n",
    "plt.show()\n"
   ]
  },
  {
   "cell_type": "markdown",
   "metadata": {
    "colab_type": "text",
    "id": "pHgIHYxrIWaR"
   },
   "source": [
    "# Parameter -  stop_words"
   ]
  },
  {
   "cell_type": "markdown",
   "metadata": {
    "colab_type": "text",
    "id": "5blGJdmktdc8"
   },
   "source": [
    "Tried the English stopwords, but it didn't improve the accuracy much. So created my own stop words set, with words that didn't add much value towards the prediction."
   ]
  },
  {
   "cell_type": "code",
   "execution_count": 0,
   "metadata": {
    "colab": {},
    "colab_type": "code",
    "id": "4vslDnsqp0ph"
   },
   "outputs": [],
   "source": [
    "from collections import Counter\n",
    "common_words_df = pd.DataFrame(Counter(\" \".join(wine_reviews[\"description\"]).split()).most_common(100), columns=['words','count'])\n",
    "\n",
    "stop = set(common_words_df['words'])\n",
    "mystopwords = {'A','It',\"It's\",'The','This','a','all','an','and','are','as','at','be','but','by','for','from','has',\n",
    "               'in','into','is','it',\"it's\",'its','just','like','more','new','not','notes','now','now,','now.','of',\n",
    "               'on','or','over','should','shows','so','some','than','that','the','this','through','to','which',\n",
    "               'will','wine','wine,','wine.','with','you'}"
   ]
  },
  {
   "cell_type": "code",
   "execution_count": 0,
   "metadata": {
    "colab": {},
    "colab_type": "code",
    "id": "nNJtsCgP_871"
   },
   "outputs": [],
   "source": [
    "from sklearn.feature_extraction.text import ENGLISH_STOP_WORDS\n",
    "stopwords = set(ENGLISH_STOP_WORDS)\n",
    "for word in mystopwords:\n",
    "  stopwords.add(word)\n"
   ]
  },
  {
   "cell_type": "code",
   "execution_count": 0,
   "metadata": {
    "colab": {
     "base_uri": "https://localhost:8080/",
     "height": 51
    },
    "colab_type": "code",
    "id": "eWTairQ-HsI1",
    "outputId": "a4d2dcba-2089-45df-963b-b187c843229b"
   },
   "outputs": [
    {
     "data": {
      "text/plain": [
       "<29430x691438 sparse matrix of type '<class 'numpy.int64'>'\n",
       "\twith 2202094 stored elements in Compressed Sparse Row format>"
      ]
     },
     "execution_count": 148,
     "metadata": {
      "tags": []
     },
     "output_type": "execute_result"
    }
   ],
   "source": [
    "text_trainval = [doc.replace(\"<br />\", \" \")\n",
    "                  for doc in text_trainval]\n",
    "\n",
    "text_train, text_val, y_train, y_val = train_test_split(\n",
    "    text_trainval, y_trainval, stratify=y_trainval, random_state=0)\n",
    "\n",
    "vect = CountVectorizer(ngram_range=(1, 3),stop_words=mystopwords)\n",
    "X_train = vect.fit_transform(text_train)\n",
    "X_val = vect.transform(text_val)\n",
    "X_train"
   ]
  },
  {
   "cell_type": "code",
   "execution_count": 0,
   "metadata": {
    "colab": {
     "base_uri": "https://localhost:8080/",
     "height": 51
    },
    "colab_type": "code",
    "id": "xW5ozMJyIrTR",
    "outputId": "6df2d1d0-e9f8-4e76-e4a0-7acbfa9d2363"
   },
   "outputs": [
    {
     "name": "stdout",
     "output_type": "stream",
     "text": [
      "{'ridge__alpha': 1.0}\n",
      "0.86660074413953\n"
     ]
    }
   ],
   "source": [
    "rid_pipe = make_pipeline(Ridge())\n",
    "\n",
    "param_grid = {'ridge__alpha': [0.001, 0.01, 0.1, 1., 10., 100., 1000.]}\n",
    "\n",
    "grid = GridSearchCV(rid_pipe, param_grid=param_grid,cv=5, n_jobs=-1)\n",
    "grid.fit(X_train, y_train)\n",
    "print(grid.best_params_)\n",
    "print(grid.score(X_val, y_val))"
   ]
  },
  {
   "cell_type": "code",
   "execution_count": 0,
   "metadata": {
    "colab": {
     "base_uri": "https://localhost:8080/",
     "height": 34
    },
    "colab_type": "code",
    "id": "8mwzkgzoH7Zk",
    "outputId": "a4d3173f-61fd-43c6-de6e-6bf4e06c89ff"
   },
   "outputs": [
    {
     "data": {
      "text/plain": [
       "0.86660074413953"
      ]
     },
     "execution_count": 149,
     "metadata": {
      "tags": []
     },
     "output_type": "execute_result"
    }
   ],
   "source": [
    "ridge = Ridge(alpha=1.).fit(X_train, y_train)\n",
    "ridge.score(X_val, y_val)"
   ]
  },
  {
   "cell_type": "markdown",
   "metadata": {
    "colab_type": "text",
    "id": "IA_zQXlUJEP1"
   },
   "source": [
    "# Parameter - min_df = 2"
   ]
  },
  {
   "cell_type": "code",
   "execution_count": 0,
   "metadata": {
    "colab": {
     "base_uri": "https://localhost:8080/",
     "height": 51
    },
    "colab_type": "code",
    "id": "ReulIjpWJNoe",
    "outputId": "89db96c6-fccf-4245-c750-9bee190306fb"
   },
   "outputs": [
    {
     "data": {
      "text/plain": [
       "<29430x330062 sparse matrix of type '<class 'numpy.int64'>'\n",
       "\twith 2975097 stored elements in Compressed Sparse Row format>"
      ]
     },
     "execution_count": 109,
     "metadata": {
      "tags": []
     },
     "output_type": "execute_result"
    }
   ],
   "source": [
    "text_trainval = [doc.replace(\"<br />\", \" \")\n",
    "                  for doc in text_trainval]\n",
    "\n",
    "text_train, text_val, y_train, y_val = train_test_split(\n",
    "    text_trainval, y_trainval, stratify=y_trainval, random_state=0)\n",
    "\n",
    "vect = CountVectorizer(ngram_range=(1, 3),min_df =2)\n",
    "X_train = vect.fit_transform(text_train)\n",
    "X_val = vect.transform(text_val)\n",
    "X_train"
   ]
  },
  {
   "cell_type": "code",
   "execution_count": 0,
   "metadata": {
    "colab": {
     "base_uri": "https://localhost:8080/",
     "height": 51
    },
    "colab_type": "code",
    "id": "TwM2sZs4JVb_",
    "outputId": "81b6e8eb-e2ed-4fee-d333-92ec01d8a3d8"
   },
   "outputs": [
    {
     "name": "stdout",
     "output_type": "stream",
     "text": [
      "{'ridge__alpha': 10.0}\n",
      "0.856799258179701\n"
     ]
    }
   ],
   "source": [
    "rid_pipe = make_pipeline(Ridge())\n",
    "\n",
    "param_grid = {'ridge__alpha': [0.001, 0.01, 0.1, 1., 10., 100.]}\n",
    "\n",
    "grid = GridSearchCV(rid_pipe, param_grid=param_grid,cv=5, n_jobs=-1)\n",
    "grid.fit(X_train, y_train)\n",
    "print(grid.best_params_)\n",
    "print(grid.score(X_val, y_val))"
   ]
  },
  {
   "cell_type": "code",
   "execution_count": 0,
   "metadata": {
    "colab": {
     "base_uri": "https://localhost:8080/",
     "height": 34
    },
    "colab_type": "code",
    "id": "Q04Zh0zkJYq0",
    "outputId": "9bef850a-1d97-4e31-eb7a-2a110181c76f"
   },
   "outputs": [
    {
     "data": {
      "text/plain": [
       "0.856799258179701"
      ]
     },
     "execution_count": 111,
     "metadata": {
      "tags": []
     },
     "output_type": "execute_result"
    }
   ],
   "source": [
    "ridge = Ridge(alpha=10.).fit(X_train, y_train)\n",
    "ridge.score(X_val, y_val)"
   ]
  },
  {
   "cell_type": "markdown",
   "metadata": {
    "colab_type": "text",
    "id": "F2eFHFzJLCXx"
   },
   "source": [
    "# Using Tf-idf rescaling\n"
   ]
  },
  {
   "cell_type": "code",
   "execution_count": 0,
   "metadata": {
    "colab": {},
    "colab_type": "code",
    "id": "3ar-vB5tLBBj"
   },
   "outputs": [],
   "source": [
    "from sklearn.feature_extraction.text import TfidfVectorizer, TfidfTransformer\n",
    "text_trainval = [doc.replace(\"<br />\", \" \")\n",
    "                  for doc in text_trainval]\n",
    "\n",
    "text_train, text_val, y_train, y_val = train_test_split(\n",
    "    text_trainval, y_trainval, stratify=y_trainval, random_state=0)\n",
    "\n",
    "vect_tfidf = make_pipeline(CountVectorizer(ngram_range = (1,2)),TfidfTransformer())\n",
    "\n",
    "X_train = vect_tfidf.fit_transform(text_train)\n",
    "X_val = vect_tfidf.transform(text_val)"
   ]
  },
  {
   "cell_type": "code",
   "execution_count": 0,
   "metadata": {
    "colab": {
     "base_uri": "https://localhost:8080/",
     "height": 34
    },
    "colab_type": "code",
    "id": "cEyLn6wZLG-7",
    "outputId": "c8cf51df-f029-4505-8619-20af96f0cb37"
   },
   "outputs": [
    {
     "data": {
      "text/plain": [
       "0.8552212949598105"
      ]
     },
     "execution_count": 170,
     "metadata": {
      "tags": []
     },
     "output_type": "execute_result"
    }
   ],
   "source": [
    "ridge = Ridge(alpha= .1).fit(X_train, y_train)\n",
    "ridge.score(X_val, y_val)"
   ]
  },
  {
   "cell_type": "markdown",
   "metadata": {
    "colab_type": "text",
    "id": "Vu8H_lE7hgfT"
   },
   "source": [
    "# 1.3 - Combining Text and Non-Text Features"
   ]
  },
  {
   "cell_type": "code",
   "execution_count": 0,
   "metadata": {
    "colab": {},
    "colab_type": "code",
    "id": "XbepWQKh8gAc"
   },
   "outputs": [],
   "source": [
    "text_traintest = list(wine_reviews['description'])\n",
    "y_traintest = wine_reviews[['points']]"
   ]
  },
  {
   "cell_type": "code",
   "execution_count": 0,
   "metadata": {
    "colab": {
     "base_uri": "https://localhost:8080/",
     "height": 51
    },
    "colab_type": "code",
    "id": "jz6n_xexhfjw",
    "outputId": "b4234d50-0b4f-489d-e344-aa2e4974cfe5"
   },
   "outputs": [
    {
     "data": {
      "text/plain": [
       "<29430x691438 sparse matrix of type '<class 'numpy.int64'>'\n",
       "\twith 2202094 stored elements in Compressed Sparse Row format>"
      ]
     },
     "execution_count": 14,
     "metadata": {
      "tags": []
     },
     "output_type": "execute_result"
    }
   ],
   "source": [
    "text_traintest = [doc.replace(\"<br />\", \" \")\n",
    "                  for doc in text_traintest]\n",
    "\n",
    "text_train, text_test, y_train_text, y_test_text = train_test_split(\n",
    "    text_traintest, y_traintest, stratify=y_traintest, random_state=0)\n",
    "\n",
    "vect = CountVectorizer(ngram_range=(1, 3), stop_words=mystopwords)\n",
    "X_train_text = vect.fit_transform(text_train)\n",
    "X_test_text = vect.transform(text_test)\n",
    "X_train_text"
   ]
  },
  {
   "cell_type": "code",
   "execution_count": 0,
   "metadata": {
    "colab": {},
    "colab_type": "code",
    "id": "-O1Q2ol7mfpt"
   },
   "outputs": [],
   "source": [
    "drop_columns = ['description', 'region_1', 'points']\n",
    "X = wine_reviews.drop(columns = drop_columns, axis=1)\n",
    "y = wine_reviews[['points']]"
   ]
  },
  {
   "cell_type": "code",
   "execution_count": 0,
   "metadata": {
    "colab": {
     "base_uri": "https://localhost:8080/",
     "height": 51
    },
    "colab_type": "code",
    "id": "G-QB2W5NidpL",
    "outputId": "0c8fe5ab-f95f-4cda-9499-c48d04f02550"
   },
   "outputs": [
    {
     "data": {
      "text/plain": [
       "<29430x197 sparse matrix of type '<class 'numpy.float64'>'\n",
       "\twith 176580 stored elements in Compressed Sparse Row format>"
      ]
     },
     "execution_count": 17,
     "metadata": {
      "tags": []
     },
     "output_type": "execute_result"
    }
   ],
   "source": [
    "X_train, X_test, y_train_nontext, y_test_nontext = train_test_split(X,y,stratify=y, random_state=0)\n",
    "\n",
    "categorical_features = ['region_2', 'province','variety']\n",
    "continuous_features = ['price']\n",
    "te_features = ['designation', 'winery']\n",
    "\n",
    "\n",
    "preprocess = make_column_transformer(\n",
    "        (TargetEncoder(handle_missing='value',handle_unknown='value'), te_features),\n",
    "        (OneHotEncoder(handle_unknown='ignore'), categorical_features),\n",
    "        (StandardScaler(), continuous_features))\n",
    "\n",
    "model = make_pipeline(preprocess)\n",
    "\n",
    "X_train_nontext = model.fit_transform(X_train, y_train_nontext)\n",
    "\n",
    "X_test_nontext = model.transform(X_test)\n",
    "\n",
    "X_train_nontext"
   ]
  },
  {
   "cell_type": "code",
   "execution_count": 0,
   "metadata": {
    "colab": {
     "base_uri": "https://localhost:8080/",
     "height": 51
    },
    "colab_type": "code",
    "id": "meJ3w_DX99it",
    "outputId": "bb2a2185-fcc4-4e99-b1f3-87b78a979df5"
   },
   "outputs": [
    {
     "data": {
      "text/plain": [
       "<29430x691635 sparse matrix of type '<class 'numpy.float64'>'\n",
       "\twith 2378674 stored elements in COOrdinate format>"
      ]
     },
     "execution_count": 18,
     "metadata": {
      "tags": []
     },
     "output_type": "execute_result"
    }
   ],
   "source": [
    "from scipy.sparse import hstack\n",
    "X_train_combined = hstack([X_train_text, X_train_nontext])\n",
    "X_test_combined = hstack([X_test_text, X_test_nontext])\n",
    "\n",
    "X_train_combined"
   ]
  },
  {
   "cell_type": "code",
   "execution_count": 0,
   "metadata": {
    "colab": {
     "base_uri": "https://localhost:8080/",
     "height": 34
    },
    "colab_type": "code",
    "id": "0CZctiuQWVZs",
    "outputId": "5a76405d-54f3-4fd4-8c4d-85926f968550"
   },
   "outputs": [
    {
     "data": {
      "text/plain": [
       "0.8877886622360549"
      ]
     },
     "execution_count": 19,
     "metadata": {
      "tags": []
     },
     "output_type": "execute_result"
    }
   ],
   "source": [
    "ridge = Ridge(alpha= .1).fit(X_train_combined, y_train_text)\n",
    "ridge.score(X_test_combined, y_test_text)"
   ]
  }
 ],
 "metadata": {
  "colab": {
   "collapsed_sections": [
    "FxC-PtSLzFrs"
   ],
   "machine_shape": "hm",
   "name": "ap3901_hw4_task1.ipynb",
   "provenance": [],
   "toc_visible": true
  },
  "kernelspec": {
   "display_name": "Python 3",
   "language": "python",
   "name": "python3"
  },
  "language_info": {
   "codemirror_mode": {
    "name": "ipython",
    "version": 3
   },
   "file_extension": ".py",
   "mimetype": "text/x-python",
   "name": "python",
   "nbconvert_exporter": "python",
   "pygments_lexer": "ipython3",
   "version": "3.7.4"
  }
 },
 "nbformat": 4,
 "nbformat_minor": 1
}
